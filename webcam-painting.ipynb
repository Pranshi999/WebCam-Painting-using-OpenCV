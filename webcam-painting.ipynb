{
 "cells": [
  {
   "cell_type": "code",
   "execution_count": null,
   "metadata": {},
   "outputs": [],
   "source": [
    "import numpy as np\n",
    "import cv2\n",
    "from collections import deque"
   ]
  },
  {
   "cell_type": "code",
   "execution_count": null,
   "metadata": {},
   "outputs": [],
   "source": [
    "\n",
    "# Define the upper and lower boundaries for a color to be considered \"Blue\"\n",
    "blueLower = np.array([100, 60, 60])\n",
    "blueUpper = np.array([140, 255, 255])\n",
    "\n",
    "# Define a 5x5 kernel for erosion and dilation\n",
    "kernel = np.ones((5, 5), np.uint8)\n",
    "\n",
    "# Initialize deques to store different colors in different arrays\n",
    "bpoints = [deque(maxlen=512)]\n",
    "gpoints = [deque(maxlen=512)]\n",
    "rpoints = [deque(maxlen=512)]\n",
    "ypoints = [deque(maxlen=512)]\n",
    "\n",
    "# Initialize an index variable for each of the colors \n",
    "bindex = 0\n",
    "gindex = 0\n",
    "rindex = 0\n",
    "yindex = 0\n",
    "\n",
    "# Just a handy array and an index variable to get the color-of-interest on the go\n",
    "# Blue, Green, Red, Yellow respectively\n",
    "colors = [(255, 0, 0), (0, 255, 0), (0, 0, 255), (0, 255, 255)] \n",
    "colorIndex = 0"
   ]
  },
  {
   "cell_type": "code",
   "execution_count": null,
   "metadata": {},
   "outputs": [],
   "source": [
    "\n",
    "# Create a blank white image\n",
    "paintWindow = np.zeros((471,636,3)) + 255\n",
    "\n",
    "# Draw buttons like colored rectangles on the white image\n",
    "paintWindow = cv2.rectangle(paintWindow, (40,1), (140,65), (0,0,0), 2)\n",
    "paintWindow = cv2.rectangle(paintWindow, (160,1), (255,65), colors[0], -1)\n",
    "paintWindow = cv2.rectangle(paintWindow, (275,1), (370,65), colors[1], -1)\n",
    "paintWindow = cv2.rectangle(paintWindow, (390,1), (485,65), colors[2], -1)\n",
    "paintWindow = cv2.rectangle(paintWindow, (505,1), (600,65), colors[3], -1)\n",
    "\n",
    "# Label the rectanglular boxes drawn on the image\n",
    "cv2.putText(paintWindow, \"CLEAR ALL\", (49, 33), cv2.FONT_HERSHEY_SIMPLEX, 0.5, (0, 0, 0), 2, cv2.LINE_AA)\n",
    "cv2.putText(paintWindow, \"BLUE\", (185, 33), cv2.FONT_HERSHEY_SIMPLEX, 0.5, (255, 255, 255), 2, cv2.LINE_AA)\n",
    "cv2.putText(paintWindow, \"GREEN\", (298, 33), cv2.FONT_HERSHEY_SIMPLEX, 0.5, (255, 255, 255), 2, cv2.LINE_AA)\n",
    "cv2.putText(paintWindow, \"RED\", (420, 33), cv2.FONT_HERSHEY_SIMPLEX, 0.5, (255, 255, 255), 2, cv2.LINE_AA)\n",
    "cv2.putText(paintWindow, \"YELLOW\", (520, 33), cv2.FONT_HERSHEY_SIMPLEX, 0.5, (150,150,150), 2, cv2.LINE_AA)\n",
    "\n",
    "# Create a window to display the above image (later)\n",
    "cv2.namedWindow('Paint', cv2.WINDOW_AUTOSIZE)"
   ]
  },
  {
   "cell_type": "code",
   "execution_count": null,
   "metadata": {},
   "outputs": [],
   "source": [
    "# Load the video\n",
    "camera = cv2.VideoCapture(0)\n",
    "\n",
    "# Keep looping\n",
    "while True:\n",
    "    # Grab the current paintWindow\n",
    "    (grabbed, frame) = camera.read()\n",
    "    frame = cv2.flip(frame, 1)\n",
    "    hsv = cv2.cvtColor(frame, cv2.COLOR_BGR2HSV)\n",
    "\n",
    "    # Check to see if we have reached the end of the video (useful when input is a video file not a live video stream)\n",
    "    if not grabbed:\n",
    "        break    \n",
    "    \n",
    "    # Add the same paint interface to the camera feed captured through the webcam (for ease of usage)\n",
    "    frame = cv2.rectangle(frame, (40,1), (140,65), (122,122,122), -1)\n",
    "    frame = cv2.rectangle(frame, (160,1), (255,65), colors[0], -1)\n",
    "    frame = cv2.rectangle(frame, (275,1), (370,65), colors[1], -1)\n",
    "    frame = cv2.rectangle(frame, (390,1), (485,65), colors[2], -1)\n",
    "    frame = cv2.rectangle(frame, (505,1), (600,65), colors[3], -1)\n",
    "    cv2.putText(frame, \"CLEAR ALL\", (49, 33), cv2.FONT_HERSHEY_SIMPLEX, 0.5, (255, 255, 255), 2, cv2.LINE_AA)\n",
    "    cv2.putText(frame, \"BLUE\", (185, 33), cv2.FONT_HERSHEY_SIMPLEX, 0.5, (255, 255, 255), 2, cv2.LINE_AA)\n",
    "    cv2.putText(frame, \"GREEN\", (298, 33), cv2.FONT_HERSHEY_SIMPLEX, 0.5, (255, 255, 255), 2, cv2.LINE_AA)\n",
    "    cv2.putText(frame, \"RED\", (420, 33), cv2.FONT_HERSHEY_SIMPLEX, 0.5, (255, 255, 255), 2, cv2.LINE_AA)\n",
    "    cv2.putText(frame, \"YELLOW\", (520, 33), cv2.FONT_HERSHEY_SIMPLEX, 0.5, (150,150,150), 2, cv2.LINE_AA)"
   ]
  },
  {
   "cell_type": "code",
   "execution_count": null,
   "metadata": {},
   "outputs": [],
   "source": [
    "# Determine which pixels fall within the blue boundaries and then blur the binary image\n",
    "blueMask = cv2.inRange(hsv, blueLower, blueUpper)\n",
    "blueMask = cv2.erode(blueMask, kernel, iterations=2)\n",
    "blueMask = cv2.morphologyEx(blueMask, cv2.MORPH_OPEN, kernel)\n",
    "blueMask = cv2.dilate(blueMask, kernel, iterations=1)\n",
    "\n",
    "# Find contours in the image\n",
    "(_, cnts, _) = cv2.findContours(blueMask.copy(), cv2.RETR_EXTERNAL,\n",
    "cv2.CHAIN_APPROX_SIMPLE)"
   ]
  },
  {
   "cell_type": "code",
   "execution_count": null,
   "metadata": {},
   "outputs": [],
   "source": [
    "# Check to see if any contours (blue stuff) were found\n",
    "if len(cnts) > 0:\n",
    "\t# Sort the contours and find the largest one -- we assume this contour correspondes to the area of the bottle cap\n",
    "    cnt = sorted(cnts, key = cv2.contourArea, reverse = True)[0]\n",
    "    # Get the radius of the enclosing circle around the found contour\n",
    "    ((x, y), radius) = cv2.minEnclosingCircle(cnt)\n",
    "    # Draw the circle around the contour\n",
    "    cv2.circle(frame, (int(x), int(y)), int(radius), (0, 255, 255), 2)\n",
    "    # Get the moments to calculate the center of the contour (in this case a circle)\n",
    "    M = cv2.moments(cnt)"
   ]
  },
  {
   "cell_type": "code",
   "execution_count": null,
   "metadata": {},
   "outputs": [],
   "source": [
    "\n",
    "# Check to see if any contours (blue stuff) were found\n",
    "if len(cnts) > 0:\n",
    "    # Sort the contours and find the largest one -- we assume this contour correspondes to the area of the bottle cap\n",
    "    cnt = sorted(cnts, key = cv2.contourArea, reverse = True)[0]\n",
    "    # Get the radius of the enclosing circle around the found contour\n",
    "    ((x, y), radius) = cv2.minEnclosingCircle(cnt)\n",
    "    # Draw the circle around the contour\n",
    "    cv2.circle(frame, (int(x), int(y)), int(radius), (0, 255, 255), 2)\n",
    "    # Get the moments to calculate the center of the contour (in this case a circle)\n",
    "    M = cv2.moments(cnt)\n",
    "    center = (int(M['m10'] / M['m00']), int(M['m01'] / M['m00']))"
   ]
  },
  {
   "cell_type": "code",
   "execution_count": null,
   "metadata": {},
   "outputs": [],
   "source": [
    "# Draw lines of all the colors (Blue, Green, Red and Yellow)\n",
    "points = [bpoints, gpoints, rpoints, ypoints]\n",
    "for i in range(len(points)):\n",
    "    for j in range(len(points[i])):\n",
    "        for k in range(1, len(points[i][j])):\n",
    "            if points[i][j][k - 1] is None or points[i][j][k] is None:\n",
    "                continue\n",
    "            cv2.line(frame, points[i][j][k - 1], points[i][j][k], colors[i], 2)\n",
    "            cv2.line(paintWindow, points[i][j][k - 1], points[i][j][k], colors[i], 2)\n",
    "\n",
    "# Show the frame and the paintWindow image\n",
    "cv2.imshow(\"Tracking\", frame)\n",
    "cv2.imshow(\"Paint\", paintWindow)\n",
    "\n",
    "# If the 'q' key is pressed, stop the loop\n",
    "if cv2.waitKey(1) & 0xFF == ord(\"q\"):\n",
    "    break"
   ]
  },
  {
   "cell_type": "code",
   "execution_count": null,
   "metadata": {},
   "outputs": [],
   "source": [
    "# Cleanup code\n",
    "camera.release()\n",
    "cv2.destroyAllWindows()"
   ]
  }
 ],
 "metadata": {
  "kernelspec": {
   "display_name": "Python 3",
   "language": "python",
   "name": "python3"
  },
  "language_info": {
   "codemirror_mode": {
    "name": "ipython",
    "version": 3
   },
   "file_extension": ".py",
   "mimetype": "text/x-python",
   "name": "python",
   "nbconvert_exporter": "python",
   "pygments_lexer": "ipython3",
   "version": "3.8.5"
  }
 },
 "nbformat": 4,
 "nbformat_minor": 4
}
